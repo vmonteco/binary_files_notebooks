{
 "cells": [
  {
   "cell_type": "markdown",
   "id": "dde2c520-e32a-4533-a340-e70c6c725525",
   "metadata": {},
   "source": [
    "# Binary files  The basics :\n",
    "A binary file is usually a file that's not a text file (i-e readable by human).\n",
    "Binary files can be compiled programm, but also images, videos, sound files, other data formats...\n",
    "\n",
    "## Structure :\n",
    "Depending on the format, binary files will have different structure. But they will mostly be a sequence of bytes (bits (binary digits) grouped by eights).\n",
    "\n",
    "Some binary contain headers (blocks of metadata) used by a computer programm to interpret the data in the file.\n",
    "\n",
    "The header often contins a signature or magic number which can identify the format. For instance, a `GIF` file can contain multiple images, and headers are used to identify and describe each block of image data. The leading bytes of the header would contain text like `GIF87a` or `GIF89a` that can identify the binary as a `GIF` file.\n",
    "\n",
    "If a binary file does not contain any headers, it may be called a **flat binary file**.\n",
    "\n",
    "### Signatures (aka. \"Magic numbers\") instances :\n",
    "\n",
    "(taken from [wikipedia](https://en.wikipedia.org/wiki/List_of_file_signatures))\n",
    "\n",
    "| Hex signature | ISO 8859-1 | Offset | Extension | Description |\n",
    "| --- | --- | --- | --- | --- |\n",
    "| `23 21` | `#!` | 0 |  | Script or data to be passed to the programm following the shebang (`#!`) |\n",
    "| `53 51 4C 69 74 65 20 66 6F 72 6D 61 74 20 33 00` | `SQLite format 3` | 0 | sqlitedb sqlite db | SQLite Database |\n",
    "| `FF D8 FF E0` | `ÿØÿà` | 0 | jpg | `JPEG` raw or in the `JFIF` or `Exif` file format |\n",
    "| `7F 45 4C 46` | `␡ELF` | 0 | | [Executable and Linkable Format](https://en.wikipedia.org/wiki/Executable_and_Linkable_Format) |\n",
    "\n",
    "## The simple file (Hello world) we'll use in these notebooks :\n",
    "We'll use the following C code :"
   ]
  },
  {
   "cell_type": "code",
   "execution_count": null,
   "id": "3b6cf92a-652c-4d88-97be-24c6004624eb",
   "metadata": {},
   "outputs": [],
   "source": [
    "%%writefile ../code/helloworld.c\n",
    "#include <stdio.h>\n",
    "int main(){\n",
    "    printf(\"Hello world!\\n\");\n",
    "    return 0;\n",
    "}"
   ]
  },
  {
   "cell_type": "markdown",
   "id": "3daba36f-77ef-4991-b431-0eed1c540710",
   "metadata": {},
   "source": [
    "...that will be compiled that way :"
   ]
  },
  {
   "cell_type": "code",
   "execution_count": null,
   "id": "86d8f8c3-97b4-4995-8c44-ed98af7c04e2",
   "metadata": {},
   "outputs": [],
   "source": [
    "%%script bash --no-raise-error\n",
    "gcc ../code/helloworld.c -o ../binary_files/helloworld"
   ]
  }
 ],
 "metadata": {
  "kernelspec": {
   "display_name": "Python 3 (ipykernel)",
   "language": "python",
   "name": "python3"
  },
  "language_info": {
   "codemirror_mode": {
    "name": "ipython",
    "version": 3
   },
   "file_extension": ".py",
   "mimetype": "text/x-python",
   "name": "python",
   "nbconvert_exporter": "python",
   "pygments_lexer": "ipython3",
   "version": "3.10.13"
  }
 },
 "nbformat": 4,
 "nbformat_minor": 5
}
