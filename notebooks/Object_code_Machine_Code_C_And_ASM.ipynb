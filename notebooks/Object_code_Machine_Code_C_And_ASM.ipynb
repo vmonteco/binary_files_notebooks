{
 "cells": [
  {
   "cell_type": "markdown",
   "id": "e7dcb507-a3ca-4526-a241-fa48a92139aa",
   "metadata": {},
   "source": [
    "https://stackoverflow.com/questions/466790/assembly-code-vs-machine-code-vs-object-code\n",
    "https://stackoverflow.com/questions/845355/do-programming-language-compilers-first-translate-to-assembly-or-directly-to-mac\n",
    "\n",
    "# Object code, Machine code, C and ASM\n",
    "\n",
    "To understand binaries, how they're made and with which process. We need to understand a few concepts.\n",
    "\n",
    "## At the beginning was the Code.\n",
    "\n",
    "At the beginning, there was nothing. The programmer created some C code.\n",
    "\n",
    "It could have simple been something like this :"
   ]
  },
  {
   "cell_type": "code",
   "execution_count": 36,
   "id": "176ca9f1-ce67-4eba-b63b-b29e885e2962",
   "metadata": {},
   "outputs": [
    {
     "name": "stdout",
     "output_type": "stream",
     "text": [
      "Overwriting ../code/empty_C_programm.c\n"
     ]
    }
   ],
   "source": [
    "%%writefile ../code/empty_C_programm.c\n",
    "int main(){return 0;}"
   ]
  },
  {
   "cell_type": "markdown",
   "id": "741c6322-5254-4ccb-8452-b5adf264ed21",
   "metadata": {},
   "source": [
    "This is even simpler than an \"Hello world!\". But it's kinda useless so far...\n",
    "\n",
    "## Then there was the ASM :\n",
    "\n",
    "### With AT&T syntax :\n",
    "\n",
    "Since the C code alone wasn't that useful, the programer decided to compile his programm using `gcc`. Not every compiler works the same, but `gcc` pre-compiles the C code into ASM. We can see the result of this operation his way :"
   ]
  },
  {
   "cell_type": "code",
   "execution_count": 42,
   "id": "7af32ecd-1fed-4470-950f-0887c2dd9490",
   "metadata": {},
   "outputs": [
    {
     "name": "stdout",
     "output_type": "stream",
     "text": [
      "\t.file\t\"empty_C_programm.c\"\n",
      "\t.text\n",
      "\t.globl\tmain\n",
      "\t.type\tmain, @function\n",
      "main:\n",
      ".LFB0:\n",
      "\t.cfi_startproc\n",
      "\tpushq\t%rbp\n",
      "\t.cfi_def_cfa_offset 16\n",
      "\t.cfi_offset 6, -16\n",
      "\tmovq\t%rsp, %rbp\n",
      "\t.cfi_def_cfa_register 6\n",
      "\tmovl\t$0, %eax\n",
      "\tpopq\t%rbp\n",
      "\t.cfi_def_cfa 7, 8\n",
      "\tret\n",
      "\t.cfi_endproc\n",
      ".LFE0:\n",
      "\t.size\tmain, .-main\n",
      "\t.ident\t\"GCC: (GNU) 13.2.1 20230801\"\n",
      "\t.section\t.note.GNU-stack,\"\",@progbits\n"
     ]
    }
   ],
   "source": [
    "%%script bash --no-raise-error\n",
    "gcc -S -masm=att ../code/empty_C_programm.c -o ../code/att_empty_C_programm.s\n",
    "cat ../code/att_empty_C_programm.s"
   ]
  },
  {
   "cell_type": "markdown",
   "id": "620c820c-3405-4ec1-a141-940bd2215e4f",
   "metadata": {},
   "source": [
    "Let's analyse the above code :\n",
    "\n",
    "```asm\n",
    "        .file    \"empty_C_programm.c\"\n",
    "        .text\n",
    "        .globl   main\n",
    "        .type    main, @function\n",
    "main:\n",
    ".LF80:\n",
    "        .cfi_startproc\n",
    "        pushq    %rbp\n",
    "        .cfi_def_cfa_offset 16\n",
    "        .cfi_offset 6, -16\n",
    "        .movq    %rsp, %rbp\n",
    "        .cfi_def_cfa_register 6\n",
    "        movl    $0, %eax\n",
    "        popq    %rbp\n",
    "        .cfi_endproc\n",
    ".LFE0:\n",
    "        .size   main, .-main\n",
    "        .ident  \"GCC: (GNU) 13.2.1 20230801\"\n",
    "        .section        .note.GNU-stack,\"\",@progbits\n",
    "```\n",
    "\n",
    "- L1 : `.file \"empty_C_programm.c\"` : \n",
    "\n",
    "### With Intel Syntax :\n",
    "\n",
    "By default, gcc uses the AT&T syntax for ASM but it's also possible to get the Intel syntax :"
   ]
  },
  {
   "cell_type": "code",
   "execution_count": 39,
   "id": "a7405823-4b71-4394-85fa-5331c659b6bc",
   "metadata": {},
   "outputs": [
    {
     "name": "stdout",
     "output_type": "stream",
     "text": [
      "\t.file\t\"empty_C_programm.c\"\n",
      "\t.intel_syntax noprefix\n",
      "\t.text\n",
      "\t.globl\tmain\n",
      "\t.type\tmain, @function\n",
      "main:\n",
      ".LFB0:\n",
      "\t.cfi_startproc\n",
      "\tpush\trbp\n",
      "\t.cfi_def_cfa_offset 16\n",
      "\t.cfi_offset 6, -16\n",
      "\tmov\trbp, rsp\n",
      "\t.cfi_def_cfa_register 6\n",
      "\tmov\teax, 0\n",
      "\tpop\trbp\n",
      "\t.cfi_def_cfa 7, 8\n",
      "\tret\n",
      "\t.cfi_endproc\n",
      ".LFE0:\n",
      "\t.size\tmain, .-main\n",
      "\t.ident\t\"GCC: (GNU) 13.2.1 20230801\"\n",
      "\t.section\t.note.GNU-stack,\"\",@progbits\n"
     ]
    }
   ],
   "source": [
    "%%script bash --no-raise-error\n",
    "gcc -S -masm=intel ../code/empty_C_programm.c -o ../code/intel_empty_C_programm.s\n",
    "cat ../code/intel_empty_C_programm.s"
   ]
  },
  {
   "cell_type": "markdown",
   "id": "00a1f5f9-34b0-4b22-b6e4-130197443042",
   "metadata": {},
   "source": [
    "### With optimization :\n",
    "\n",
    "`gcc` also provides a few optimization flags :\n",
    "\n",
    "#### -O0 (default) :\n",
    "\n",
    "Since this is the default, it's the equivalent of the above.\n",
    "\n",
    "#### -Os (Optimize for size) :"
   ]
  },
  {
   "cell_type": "code",
   "execution_count": 38,
   "id": "08e4b36a-286c-4e6e-a927-7a1f7f7c2abf",
   "metadata": {},
   "outputs": [
    {
     "name": "stdout",
     "output_type": "stream",
     "text": [
      "\t.file\t\"empty_C_programm.c\"\n",
      "\t.intel_syntax noprefix\n",
      "\t.text\n",
      "\t.section\t.text.startup,\"ax\",@progbits\n",
      "\t.globl\tmain\n",
      "\t.type\tmain, @function\n",
      "main:\n",
      ".LFB0:\n",
      "\t.cfi_startproc\n",
      "\txor\teax, eax\n",
      "\tret\n",
      "\t.cfi_endproc\n",
      ".LFE0:\n",
      "\t.size\tmain, .-main\n",
      "\t.ident\t\"GCC: (GNU) 13.2.1 20230801\"\n",
      "\t.section\t.note.GNU-stack,\"\",@progbits\n"
     ]
    }
   ],
   "source": [
    "%%script bash --no-raise-error\n",
    "gcc -S -masm=intel ../code/empty_C_programm.c -Os -o ../code/Os_intel_empty_C_programm.s\n",
    "cat ../code/Os_intel_empty_C_programm.s"
   ]
  },
  {
   "cell_type": "markdown",
   "id": "0ed925b7-47d7-4619-b761-f6607bb10c85",
   "metadata": {},
   "source": [
    "Here, the `xor eax, eax` is just a way to fill `eax` with `0` before return.\n",
    "\n",
    "#### -Og (Optimize for debugging) :"
   ]
  },
  {
   "cell_type": "code",
   "execution_count": null,
   "id": "fa1e05ad-1b3a-4698-a236-9ff97a5c93aa",
   "metadata": {},
   "outputs": [],
   "source": [
    "%%script bash --no-raise-error\n",
    "gcc -S -masm=intel ../code/empty_C_programm.c -Og -g -o ../code/Og_intel_empty_C_programm.s\n",
    "cat ../code/Og_intel_empty_C_programm.s"
   ]
  },
  {
   "cell_type": "markdown",
   "id": "caca2eb0-8588-4e65-beae-0f8703ad8833",
   "metadata": {},
   "source": [
    "#### -O and -O1 :"
   ]
  },
  {
   "cell_type": "code",
   "execution_count": null,
   "id": "36f7df37-d329-418e-b813-f562d6d717d7",
   "metadata": {},
   "outputs": [],
   "source": [
    "%%script bash --no-raise-error\n",
    "gcc -S -masm=intel ../code/empty_C_programm.c -O1 -o ../code/O1_intel_empty_C_programm.s\n",
    "cat ../code/O1_intel_empty_C_programm.s"
   ]
  },
  {
   "cell_type": "markdown",
   "id": "6519d3ec-e0f6-44b4-8531-400de35ace8a",
   "metadata": {},
   "source": [
    "#### -O2 :"
   ]
  },
  {
   "cell_type": "code",
   "execution_count": null,
   "id": "dc767591-32ac-4bbb-aeb1-87efdaee6bec",
   "metadata": {},
   "outputs": [],
   "source": [
    "%%script bash --no-raise-error\n",
    "gcc -S -masm=intel ../code/empty_C_programm.c -O2 -o ../code/O2_intel_empty_C_programm.s\n",
    "cat ../code/O2_intel_empty_C_programm.s"
   ]
  },
  {
   "cell_type": "markdown",
   "id": "380669ae-ad96-4551-bba8-d18b870dd5b3",
   "metadata": {},
   "source": [
    "#### -O3 :"
   ]
  },
  {
   "cell_type": "code",
   "execution_count": 29,
   "id": "d38d1bf7-fb0d-4ad4-9684-d0e5174d89ab",
   "metadata": {},
   "outputs": [
    {
     "name": "stdout",
     "output_type": "stream",
     "text": [
      "\t.file\t\"empty_C_programm.c\"\n",
      "\t.intel_syntax noprefix\n",
      "\t.text\n",
      "\t.section\t.text.startup,\"ax\",@progbits\n",
      "\t.p2align 4\n",
      "\t.globl\tmain\n",
      "\t.type\tmain, @function\n",
      "main:\n",
      ".LFB0:\n",
      "\t.cfi_startproc\n",
      "\txor\teax, eax\n",
      "\tret\n",
      "\t.cfi_endproc\n",
      ".LFE0:\n",
      "\t.size\tmain, .-main\n",
      "\t.ident\t\"GCC: (GNU) 13.2.1 20230801\"\n",
      "\t.section\t.note.GNU-stack,\"\",@progbits\n"
     ]
    }
   ],
   "source": [
    "%%script bash --no-raise-error\n",
    "gcc -S -masm=intel ../code/empty_C_programm.c -O3 -o ../code/O3_intel_empty_C_programm.s\n",
    "cat ../code/O3_intel_empty_C_programm.s"
   ]
  }
 ],
 "metadata": {
  "kernelspec": {
   "display_name": "Python 3 (ipykernel)",
   "language": "python",
   "name": "python3"
  },
  "language_info": {
   "codemirror_mode": {
    "name": "ipython",
    "version": 3
   },
   "file_extension": ".py",
   "mimetype": "text/x-python",
   "name": "python",
   "nbconvert_exporter": "python",
   "pygments_lexer": "ipython3",
   "version": "3.11.8"
  }
 },
 "nbformat": 4,
 "nbformat_minor": 5
}
