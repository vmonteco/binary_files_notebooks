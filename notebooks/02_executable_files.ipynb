{
 "cells": [
  {
   "cell_type": "markdown",
   "id": "ca6f13d7-32a1-4b3c-9b71-9239a1516272",
   "metadata": {},
   "source": [
    "# Executable fies :"
   ]
  }
 ],
 "metadata": {
  "kernelspec": {
   "display_name": "Python 3 (ipykernel)",
   "language": "python",
   "name": "python3"
  },
  "language_info": {
   "codemirror_mode": {
    "name": "ipython",
    "version": 3
   },
   "file_extension": ".py",
   "mimetype": "text/x-python",
   "name": "python",
   "nbconvert_exporter": "python",
   "pygments_lexer": "ipython3",
   "version": "3.10.13"
  }
 },
 "nbformat": 4,
 "nbformat_minor": 5
}
