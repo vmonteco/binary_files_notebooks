{
 "cells": [
  {
   "cell_type": "markdown",
   "id": "ca6f13d7-32a1-4b3c-9b71-9239a1516272",
   "metadata": {},
   "source": [
    "# Executable files :\n",
    "Executable files are files containing machine code meant to give the CPU instructions.\n",
    "\n",
    "## Executable file formats :\n",
    "There are several executable files, for instance, here are the available supported **debug** formats available with `nasm` :"
   ]
  },
  {
   "cell_type": "code",
   "execution_count": 3,
   "id": "0a7a0bc4-0f87-413c-bd7c-255d68243089",
   "metadata": {},
   "outputs": [
    {
     "name": "stdout",
     "output_type": "stream",
     "text": [
      "       elf32:     dwarf     ELF32 (i386) dwarf (newer) [default]\n",
      "                  stabs     ELF32 (i386) stabs (older)\n",
      "       elf64:     dwarf     ELF64 (x86-64) dwarf (newer) [default]\n",
      "                  stabs     ELF64 (x86-64) stabs (older)\n",
      "       elfx32:    dwarf     ELFx32 (x86-64) dwarf (newer) [default]\n",
      "                  stabs     ELFx32 (x86-64) stabs (older)\n",
      "       obj:       borland   Borland Debug Records [default]\n",
      "       win32:     cv8       Codeview 8+ [default]\n",
      "       win64:     cv8       Codeview 8+ [default]\n",
      "       ieee:      ladsoft   LADsoft Debug Records [default]\n",
      "       macho32:   dwarf     Mach-O i386 dwarf for Darwin/MacOS [default]\n",
      "       macho64:   dwarf     Mach-O x86-64 dwarf for Darwin/MacOS [default]\n",
      "       dbg:       debug     Trace of all info passed to debug stage [default]\n"
     ]
    }
   ],
   "source": [
    "%%script bash --no-raise-error\n",
    "nasm -y"
   ]
  },
  {
   "cell_type": "markdown",
   "id": "02b3c642-316a-48f6-81ad-11e8438305cf",
   "metadata": {},
   "source": [
    "`nasm` also gives the supported output formats with `nasm -hf` :\n",
    "\n",
    "```\n",
    "    -f format     select output file format                                                              \n",
    "       bin                  Flat raw binary (MS-DOS, embedded, ...) [default]\n",
    "       ith                  Intel Hex encoded flat binary       \n",
    "       srec                 Motorola S-records encoded flat binary\n",
    "       aout                 Linux a.out                                                                  \n",
    "       aoutb                NetBSD/FreeBSD a.out                                                         \n",
    "       coff                 COFF (i386) (DJGPP, some Unix variants)           \n",
    "       elf32                ELF32 (i386) (Linux, most Unix variants)                                     \n",
    "       elf64                ELF64 (x86-64) (Linux, most Unix variants)                                   \n",
    "       elfx32               ELFx32 (ELF32 for x86-64) (Linux)                   \n",
    "       as86                 as86 (bin86/dev86 toolchain)            \n",
    "       obj                  Intel/Microsoft OMF (MS-DOS, OS/2, Win16)\n",
    "       win32                Microsoft extended COFF for Win32 (i386)     \n",
    "       win64                Microsoft extended COFF for Win64 (x86-64)          \n",
    "       ieee                 IEEE-695 (LADsoft variant) object file format                                \n",
    "       macho32              Mach-O i386 (Mach, including MacOS X and variants)\n",
    "       macho64              Mach-O x86-64 (Mach, including MacOS X and variants)\n",
    "       dbg                  Trace of all info passed to output stage                                     \n",
    "       elf                  Legacy alias for \"elf32\"                                                     \n",
    "       macho                Legacy alias for \"macho32\"                                                   \n",
    "       win                  Legacy alias for \"win32\" \n",
    "```\n",
    "\n",
    "Here is a comparison of [different executable file formats](https://en.wikipedia.org/wiki/Comparison_of_executable_file_formats).\n",
    "\n",
    "It looks like under unix/linux it will be mostly about ELF. But also `a.out` and `COFF`.\n",
    "\n",
    "Here's what the comparison looks like :\n",
    "\n",
    "| Format name | Operating systems | Filename extension | Explicit processor declarations | Arbitrary sections | Metadata | Digital signature | String table | Symbol table | 64 bits | Fat binaries | Can contain icons | Magic number |\n",
    "| --- | --- | --- | --- | --- | --- | --- | --- | --- | --- | --- | --- | --- |\n",
    "| [ELF](https://en.wikipedia.org/wiki/Executable_and_Linkable_Format) | Unix-like, OpenVMS, BeOS from R4 onwards, Haiku, SerenityOS | None | Yes by file | Yes | Yes | Extension | Yes | Yes | Yes | Extension | Extension | `0x7F 'E' 'L' 'F'` |\n",
    "| [a.out](https://en.wikipedia.org/wiki/A.out) | Unix-like | None | No | No | No | No | Yes | Yes | Extension | No | No | `0107, 0108, 010B` |\n",
    "| [COFF](https://en.wikipedia.org/wiki/COFF) | Unix-like | None | Yes by file | Yes | No | No | Yes | Yes | Extension | No | No |  `4C 01` (for i386), `64 86` (for AMD64) `00 02` (for Itanium) |\n",
    "\n",
    "\n",
    "There is also the [`man 5 elf`](https://www.man7.org/linux/man-pages/man5/elf.5.html) that can give some insights about ELF."
   ]
  }
 ],
 "metadata": {
  "kernelspec": {
   "display_name": "Python 3 (ipykernel)",
   "language": "python",
   "name": "python3"
  },
  "language_info": {
   "codemirror_mode": {
    "name": "ipython",
    "version": 3
   },
   "file_extension": ".py",
   "mimetype": "text/x-python",
   "name": "python",
   "nbconvert_exporter": "python",
   "pygments_lexer": "ipython3",
   "version": "3.11.8"
  }
 },
 "nbformat": 4,
 "nbformat_minor": 5
}
