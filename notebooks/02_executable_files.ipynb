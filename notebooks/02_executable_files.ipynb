{
 "cells": [
  {
   "cell_type": "markdown",
   "id": "ca6f13d7-32a1-4b3c-9b71-9239a1516272",
   "metadata": {},
   "source": [
    "# Executable files :\n",
    "Executable files are files containing machine code meant to give the CPU instructions.\n",
    "\n",
    "## Executable file formats :\n",
    "There are several executable files, for instance, here are the available formats available with `nasm` :"
   ]
  },
  {
   "cell_type": "code",
   "execution_count": 7,
   "id": "0a7a0bc4-0f87-413c-bd7c-255d68243089",
   "metadata": {},
   "outputs": [
    {
     "name": "stdout",
     "output_type": "stream",
     "text": [
      "       elf32:     dwarf     ELF32 (i386) dwarf (newer) [default]\n",
      "                  stabs     ELF32 (i386) stabs (older)\n",
      "       elf64:     dwarf     ELF64 (x86-64) dwarf (newer) [default]\n",
      "                  stabs     ELF64 (x86-64) stabs (older)\n",
      "       elfx32:    dwarf     ELFx32 (x86-64) dwarf (newer) [default]\n",
      "                  stabs     ELFx32 (x86-64) stabs (older)\n",
      "       obj:       borland   Borland Debug Records [default]\n",
      "       win32:     cv8       Codeview 8+ [default]\n",
      "       win64:     cv8       Codeview 8+ [default]\n",
      "       ieee:      ladsoft   LADsoft Debug Records [default]\n",
      "       macho32:   dwarf     Mach-O i386 dwarf for Darwin/MacOS [default]\n",
      "       macho64:   dwarf     Mach-O x86-64 dwarf for Darwin/MacOS [default]\n",
      "       dbg:       debug     Trace of all info passed to debug stage [default]\n"
     ]
    }
   ],
   "source": [
    "%%script bash --no-raise-error\n",
    "nasm -y"
   ]
  },
  {
   "cell_type": "markdown",
   "id": "02b3c642-316a-48f6-81ad-11e8438305cf",
   "metadata": {},
   "source": [
    "Here is a comparison of [different executable file formats](https://en.wikipedia.org/wiki/Comparison_of_executable_file_formats)."
   ]
  }
 ],
 "metadata": {
  "kernelspec": {
   "display_name": "Python 3 (ipykernel)",
   "language": "python",
   "name": "python3"
  },
  "language_info": {
   "codemirror_mode": {
    "name": "ipython",
    "version": 3
   },
   "file_extension": ".py",
   "mimetype": "text/x-python",
   "name": "python",
   "nbconvert_exporter": "python",
   "pygments_lexer": "ipython3",
   "version": "3.10.13"
  }
 },
 "nbformat": 4,
 "nbformat_minor": 5
}
