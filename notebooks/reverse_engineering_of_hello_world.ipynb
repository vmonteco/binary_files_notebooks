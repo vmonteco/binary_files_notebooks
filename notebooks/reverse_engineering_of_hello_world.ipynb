{
 "cells": [
  {
   "cell_type": "markdown",
   "id": "a926a8a7-ee6d-4471-9d25-a72f2db6ea61",
   "metadata": {},
   "source": [
    "# Reverse engineering of our Hello world :"
   ]
  }
 ],
 "metadata": {
  "kernelspec": {
   "display_name": "Python 3 (ipykernel)",
   "language": "python",
   "name": "python3"
  },
  "language_info": {
   "codemirror_mode": {
    "name": "ipython",
    "version": 3
   },
   "file_extension": ".py",
   "mimetype": "text/x-python",
   "name": "python",
   "nbconvert_exporter": "python",
   "pygments_lexer": "ipython3",
   "version": "3.10.13"
  }
 },
 "nbformat": 4,
 "nbformat_minor": 5
}
