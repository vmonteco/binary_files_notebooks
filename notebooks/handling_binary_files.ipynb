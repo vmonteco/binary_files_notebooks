{
 "cells": [
  {
   "cell_type": "markdown",
   "id": "580a8f83-7553-4bc8-9a3e-bdb06c2e04a0",
   "metadata": {},
   "source": [
    "# Handling binary files :\n",
    "In this noteboook we'll talk about the ways we can handle binary files to read or edit them :\n",
    "\n",
    "## Reading :\n",
    "The problem with binary file is that when trying to read a binary file (for instance with a `cat`), it'll usually give gibberish :"
   ]
  },
  {
   "cell_type": "code",
   "execution_count": null,
   "id": "09b43ae2-d349-415a-a574-e626c62be1c1",
   "metadata": {},
   "outputs": [],
   "source": [
    "%%script bash --no-raise-error\n",
    "cat helloworld"
   ]
  },
  {
   "cell_type": "markdown",
   "id": "bddd171f-4111-4aac-aad4-d09b3a1a90a3",
   "metadata": {},
   "source": [
    "Here are some tools that will make things easier when working with our binaries:\n",
    "\n",
    "### hexdump :\n",
    "We could for instance use `hexdump`:"
   ]
  },
  {
   "cell_type": "code",
   "execution_count": null,
   "id": "f50d10de-c1cf-4900-badb-82cdd484b10f",
   "metadata": {},
   "outputs": [],
   "source": [
    "%%script bash --no-raise-error\n",
    "hexdump helloworld"
   ]
  },
  {
   "cell_type": "markdown",
   "id": "fbb0c939-ed6b-4e1e-beb1-abcdcf85f33f",
   "metadata": {},
   "source": [
    "### xxd:\n",
    "`xxd` is an other available tool:"
   ]
  },
  {
   "cell_type": "markdown",
   "id": "7e985e95-1585-49c8-8341-a54a9e8c4018",
   "metadata": {},
   "source": [
    "%%script bash --no-raise-error\n",
    "xxd helloworld"
   ]
  },
  {
   "cell_type": "code",
   "execution_count": null,
   "id": "5c1e72fb-7e01-4acb-ae06-27541ae95ac6",
   "metadata": {},
   "outputs": [],
   "source": [
    "That also has a mode for binary mode (rather than hexadecimal):"
   ]
  },
  {
   "cell_type": "code",
   "execution_count": null,
   "id": "ad4fc925-4e4a-4fa2-9369-6038db459d76",
   "metadata": {
    "scrolled": true
   },
   "outputs": [],
   "source": [
    "%%script bash --no-raise-error\n",
    "xxd -b helloworld"
   ]
  },
  {
   "cell_type": "markdown",
   "id": "4cca786e-c31b-4830-a1ba-11930d9b07d8",
   "metadata": {},
   "source": [
    "## Editing:\n",
    "### With Emacs:\n",
    "### With Vim:\n",
    "### With VSC:\n",
    "### With bloc-note:"
   ]
  }
 ],
 "metadata": {
  "kernelspec": {
   "display_name": "Python 3 (ipykernel)",
   "language": "python",
   "name": "python3"
  },
  "language_info": {
   "codemirror_mode": {
    "name": "ipython",
    "version": 3
   },
   "file_extension": ".py",
   "mimetype": "text/x-python",
   "name": "python",
   "nbconvert_exporter": "python",
   "pygments_lexer": "ipython3",
   "version": "3.10.13"
  }
 },
 "nbformat": 4,
 "nbformat_minor": 5
}
