{
 "cells": [
  {
   "cell_type": "markdown",
   "id": "00dd372a-7f97-474a-8362-633d04e80767",
   "metadata": {},
   "source": [
    "# Resources\n",
    "## Wikipedia\n",
    "\n",
    "- [Global Offset Table (GOT)](https://en.wikipedia.org/wiki/Global_Offset_Table)\n",
    "- [Executable and Linkable Format (ELF)](https://en.wikipedia.org/wiki/Executable_and_Linkable_Format)\n",
    "\n",
    "## StackOverflow\n",
    "\n",
    "## Books\n",
    "\n",
    "## Websites\n",
    "\n",
    "- [The 101 of ELF files on Linux: Understanding and analysis (linux-audit.com)](https://linux-audit.com/elf-binaries-on-linux-understanding-and-analysis/)\n",
    "- [10 ways to analyse binary  files on Linux](https://opensource.com/article/20/4/linux-binary-analysis)\n",
    "- [Executable and Linkable Format (ELF) (elinux.org)](https://elinux.org/Executable_and_Linkable_Format_(ELF))\n",
    "- [agner.org (lot of other links)](https://agner.org/optimize/)\n",
    "\n",
    "## Links from ASM notes :\n",
    "\n",
    "- [MIT's X86-64 Architecture Guide](http://6.s081.scripts.mit.edu/sp18/x86-64-architecture-guide.html)\n",
    "- [Wikibooks : x86 Assembly/X86 Architecture](https://en.wikibooks.org/wiki/X86_Assembly/X86_Architecture)\n",
    "- [Actual officia Intel 64 doc (ASM 64)](https://cdrdv2.intel.com/v1/dl/getContent/671200)\n",
    "- [Learn Microsoft : x64 Architecture](https://learn.microsoft.com/en-us/windows-hardware/drivers/debugger/x64-architecture?redirectedfrom=MSDN)\n",
    "- [x86-64 assembly language reference (brown.edu)](https://cs.brown.edu/courses/csci1260/spring-2021/lectures/x86-64-assembly-language-reference.html)\n",
    "- [Differences between AMD64 and Intel 64](https://en.wikipedia.org/wiki/X86-64#Differences_between_AMD64_and_Intel_64)\n",
    "- [x86 Assembly Guide (virginia.edu)](https://www.cs.virginia.edu/~evans/cs216/guides/x86.html)\n",
    "- [SO Post about SHR instruction](https://stackoverflow.com/questions/24477132/what-does-shr-on-asm-mean)\n",
    "- [DIV instruction (felixcloutier.com)](https://www.felixcloutier.com/x86/div)\n",
    "- [DIV instruction (treeniks.github.io)](https://treeniks.github.io/x86-64-simplified/instructions/binary-arithmetic-instructions/div.html)\n",
    "- [DIV instructin (aldeid)](https://www.aldeid.com/wiki/X86-assembly/Instructions/div)\n",
    "- [System_V_ABI (wiki.osdev.org)](https://wiki.osdev.org/System_V_ABI)\n",
    "- [System_V_AMD64_ABI (wikipedia)](https://en.wikipedia.org/wiki/X86_calling_conventions#System_V_AMD64_ABI)\n",
    "- [System V Application Binary Interface v0.99.6](https://refspecs.linuxbase.org/elf/x86_64-abi-0.99.pdf)\n",
    "- [System V Application Binary Interface v1.0](https://cs61.seas.harvard.edu/site/pdf/x86-64-abi-20210928.pdf)\n",
    "- [SO Post about registers in 64bits](https://stackoverflow.com/a/20637866/3156085)\n",
    "- [CWD/CDQ/CQO instructions (felixcloutier.com)](https://www.felixcloutier.com/x86/cwd:cdq:cqo)\n",
    "- [SO post about GDB (\"Display value found at given address gdb\")](https://stackoverflow.com/questions/14493707/display-value-found-at-given-address-gdb)\n",
    "- [SO post about GDB (\"dereferencing a register gdb\")](https://stackoverflow.com/questions/23476898/dereferencing-a-register-gdb)\n",
    "- [Syscalls reference (chromium.googlesoource.com)](https://chromium.googlesource.com/chromiumos/docs/+/HEAD/constants/syscalls.md#x86_64-64_bit)\n",
    "- "
   ]
  },
  {
   "cell_type": "code",
   "execution_count": null,
   "id": "946e4f9d-b686-40bf-883e-79f92b326bd8",
   "metadata": {},
   "outputs": [],
   "source": []
  }
 ],
 "metadata": {
  "kernelspec": {
   "display_name": "Python 3 (ipykernel)",
   "language": "python",
   "name": "python3"
  },
  "language_info": {
   "codemirror_mode": {
    "name": "ipython",
    "version": 3
   },
   "file_extension": ".py",
   "mimetype": "text/x-python",
   "name": "python",
   "nbconvert_exporter": "python",
   "pygments_lexer": "ipython3",
   "version": "3.10.13"
  }
 },
 "nbformat": 4,
 "nbformat_minor": 5
}
